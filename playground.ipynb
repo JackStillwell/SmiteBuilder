{
 "nbformat": 4,
 "nbformat_minor": 2,
 "metadata": {
  "language_info": {
   "name": "python",
   "codemirror_mode": {
    "name": "ipython",
    "version": 3
   },
   "version": "3.8.1-final"
  },
  "orig_nbformat": 2,
  "file_extension": ".py",
  "mimetype": "text/x-python",
  "name": "python",
  "npconvert_exporter": "python",
  "pygments_lexer": "ipython3",
  "version": 3,
  "kernelspec": {
   "name": "python38164bitbe0dc7932b1d4ff9b97adefe0295fada",
   "display_name": "Python 3.8.1 64-bit"
  }
 },
 "cells": [
  {
   "cell_type": "code",
   "execution_count": 1,
   "metadata": {},
   "outputs": [],
   "source": [
    "import json\n",
    "from sklearn.cluster import OPTICS\n",
    "import numpy as np\n",
    "\n",
    "import tensorflow as tf\n",
    "from tensorflow import keras\n",
    "\n",
    "from sklearn.linear_model import SGDClassifier"
   ]
  },
  {
   "cell_type": "code",
   "execution_count": 2,
   "metadata": {},
   "outputs": [],
   "source": [
    "with open('SmiteData-master/conquest_match_data/1649.json', 'r') as infile:\n",
    "    raw_data = json.loads(infile.readline())"
   ]
  },
  {
   "cell_type": "code",
   "execution_count": 3,
   "metadata": {},
   "outputs": [],
   "source": [
    "npdata = np.array([np.divide(np.array([x['assists'], x['damage_mitigated'], x['damage_player'], x['damage_taken'], x['deaths'], x['healing'], x['healing_player_self'], x['kills_player'], x['structure_damage']]), x['match_time_minutes']) for x in raw_data])\n",
    "npdata_normalized = npdata / npdata.max(axis=0)\n",
    "npdata_winlabel = np.array([1 if x['win_status'] == 'Winner' else 0 for x in raw_data])"
   ]
  },
  {
   "cell_type": "code",
   "execution_count": 4,
   "metadata": {},
   "outputs": [
    {
     "data": {
      "text/plain": "array([[0.17708333, 0.26098737, 0.24186276, 0.51195801, 0.36111111,\n        0.        , 0.15863293, 0.14583333, 0.18933682],\n       [0.17      , 0.21374689, 0.15833964, 0.45531513, 0.26      ,\n        0.        , 0.22175235, 0.105     , 0.04463657],\n       [0.19675926, 0.235752  , 0.54406125, 0.59636921, 0.18055556,\n        0.        , 0.36874026, 0.4212963 , 0.27646527],\n       [0.30357143, 0.39387455, 0.54629871, 0.63480488, 0.37142857,\n        0.        , 0.26607378, 0.3       , 0.26662741],\n       [0.20833333, 0.3522963 , 0.3798932 , 0.61548226, 0.38235294,\n        0.        , 0.24534048, 0.20588235, 0.        ]])"
     },
     "execution_count": 4,
     "metadata": {},
     "output_type": "execute_result"
    }
   ],
   "source": [
    "npdata_normalized[0:5,:]"
   ]
  },
  {
   "cell_type": "code",
   "execution_count": 5,
   "metadata": {},
   "outputs": [
    {
     "data": {
      "text/plain": "(4646, 9)"
     },
     "execution_count": 5,
     "metadata": {},
     "output_type": "execute_result"
    }
   ],
   "source": [
    "npdata_normalized.shape"
   ]
  },
  {
   "cell_type": "code",
   "execution_count": 6,
   "metadata": {},
   "outputs": [],
   "source": [
    "clustering = OPTICS(min_cluster_size=.2, max_eps=50).fit(npdata)"
   ]
  },
  {
   "cell_type": "code",
   "execution_count": 7,
   "metadata": {},
   "outputs": [
    {
     "data": {
      "text/plain": "1304"
     },
     "execution_count": 7,
     "metadata": {},
     "output_type": "execute_result"
    }
   ],
   "source": [
    "len([x for x in clustering.labels_ if x != -1])"
   ]
  },
  {
   "cell_type": "code",
   "execution_count": 8,
   "metadata": {},
   "outputs": [],
   "source": [
    "model = keras.Sequential([\n",
    "    keras.layers.Dense(9),\n",
    "    keras.layers.Dense(1)\n",
    "])\n",
    "model.compile(optimizer='adam',\n",
    "              loss=tf.keras.losses.MeanSquaredError(),\n",
    "              metrics=['accuracy'])"
   ]
  },
  {
   "cell_type": "code",
   "execution_count": 9,
   "metadata": {},
   "outputs": [
    {
     "name": "stdout",
     "output_type": "stream",
     "text": "Train on 3000 samples\nEpoch 1/10\nWARNING:tensorflow:Entity <function Function._initialize_uninitialized_variables.<locals>.initialize_variables at 0x7fcde1b583a0> could not be transformed and will be executed as-is. Please report this to the AutoGraph team. When filing the bug, set the verbosity to 10 (on Linux, `export AUTOGRAPH_VERBOSITY=10`) and attach the full output. Cause: module 'gast' has no attribute 'Num'\nWARNING: Entity <function Function._initialize_uninitialized_variables.<locals>.initialize_variables at 0x7fcde1b583a0> could not be transformed and will be executed as-is. Please report this to the AutoGraph team. When filing the bug, set the verbosity to 10 (on Linux, `export AUTOGRAPH_VERBOSITY=10`) and attach the full output. Cause: module 'gast' has no attribute 'Num'\n3000/3000 [==============================] - 2s 667us/sample - loss: 0.3900 - accuracy: 0.3947\nEpoch 2/10\n3000/3000 [==============================] - 0s 71us/sample - loss: 0.2698 - accuracy: 0.5373\nEpoch 3/10\n3000/3000 [==============================] - 0s 68us/sample - loss: 0.2113 - accuracy: 0.6803\nEpoch 4/10\n3000/3000 [==============================] - 0s 68us/sample - loss: 0.1735 - accuracy: 0.7663\nEpoch 5/10\n3000/3000 [==============================] - 0s 60us/sample - loss: 0.1513 - accuracy: 0.7973\nEpoch 6/10\n3000/3000 [==============================] - 0s 80us/sample - loss: 0.1397 - accuracy: 0.8133\nEpoch 7/10\n3000/3000 [==============================] - 0s 82us/sample - loss: 0.1341 - accuracy: 0.8263\nEpoch 8/10\n3000/3000 [==============================] - 0s 94us/sample - loss: 0.1306 - accuracy: 0.8360\nEpoch 9/10\n3000/3000 [==============================] - 0s 107us/sample - loss: 0.1284 - accuracy: 0.8380\nEpoch 10/10\n3000/3000 [==============================] - 0s 69us/sample - loss: 0.1271 - accuracy: 0.8407\n"
    },
    {
     "data": {
      "text/plain": "<tensorflow.python.keras.callbacks.History at 0x7fcde1b44280>"
     },
     "execution_count": 9,
     "metadata": {},
     "output_type": "execute_result"
    }
   ],
   "source": [
    "model.fit(npdata_normalized[:3000], npdata_winlabel[:3000], epochs=10)"
   ]
  },
  {
   "cell_type": "code",
   "execution_count": 11,
   "metadata": {},
   "outputs": [
    {
     "name": "stdout",
     "output_type": "stream",
     "text": "1646/1 - 0s - loss: 0.1097 - accuracy: 0.8433\n"
    },
    {
     "data": {
      "text/plain": "[0.13246235608113058, 0.84325635]"
     },
     "execution_count": 11,
     "metadata": {},
     "output_type": "execute_result"
    }
   ],
   "source": [
    "model.evaluate(npdata_normalized[3000:], npdata_winlabel[3000:], verbose=2)"
   ]
  },
  {
   "cell_type": "code",
   "execution_count": 10,
   "metadata": {},
   "outputs": [
    {
     "data": {
      "text/plain": "SGDClassifier(alpha=0.0001, average=False, class_weight=None,\n              early_stopping=False, epsilon=0.1, eta0=0.0, fit_intercept=True,\n              l1_ratio=0.15, learning_rate='optimal', loss='hinge',\n              max_iter=1000, n_iter_no_change=5, n_jobs=None, penalty='l2',\n              power_t=0.5, random_state=None, shuffle=True, tol=0.001,\n              validation_fraction=0.1, verbose=0, warm_start=False)"
     },
     "execution_count": 10,
     "metadata": {},
     "output_type": "execute_result"
    }
   ],
   "source": [
    "classifier = SGDClassifier(max_iter=1000)\n",
    "classifier.fit(npdata_normalized[:3000], npdata_winlabel[:3000])"
   ]
  },
  {
   "cell_type": "code",
   "execution_count": 12,
   "metadata": {},
   "outputs": [
    {
     "data": {
      "text/plain": "0.8262454434993924"
     },
     "execution_count": 12,
     "metadata": {},
     "output_type": "execute_result"
    }
   ],
   "source": [
    "classifier.score(npdata_normalized[3000:], npdata_winlabel[3000:])"
   ]
  },
  {
   "cell_type": "code",
   "execution_count": null,
   "metadata": {},
   "outputs": [],
   "source": []
  }
 ]
}