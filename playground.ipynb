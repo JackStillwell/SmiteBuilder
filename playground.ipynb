{
 "nbformat": 4,
 "nbformat_minor": 2,
 "metadata": {
  "language_info": {
   "name": "python",
   "codemirror_mode": {
    "name": "ipython",
    "version": 3
   },
   "version": "3.8.0-final"
  },
  "orig_nbformat": 2,
  "file_extension": ".py",
  "mimetype": "text/x-python",
  "name": "python",
  "npconvert_exporter": "python",
  "pygments_lexer": "ipython3",
  "version": 3,
  "kernelspec": {
   "name": "python38064bitsmitebuildervenvbd4c22c1831d43258c02725a87a5798f",
   "display_name": "Python 3.8.0 64-bit ('smitebuilder': venv)"
  }
 },
 "cells": [
  {
   "cell_type": "code",
   "execution_count": 1,
   "metadata": {},
   "outputs": [],
   "source": [
    "import json\n",
    "from sklearn.cluster import OPTICS\n",
    "from sklearn.mixture import GaussianMixture\n",
    "import numpy as np\n",
    "import os"
   ]
  },
  {
   "cell_type": "code",
   "execution_count": 2,
   "metadata": {},
   "outputs": [],
   "source": [
    "path_to_data = os.path.join(\n",
    "    '/mnt',\n",
    "    'chromeos',\n",
    "    'removable',\n",
    "    'jack_sdcard',\n",
    "    'smite_data',\n",
    "    'conquest_match_data',\n",
    "    '1649.json'\n",
    ")\n"
   ]
  },
  {
   "cell_type": "code",
   "execution_count": 3,
   "metadata": {},
   "outputs": [],
   "source": [
    "with open(path_to_data, 'r') as infile:\n",
    "    raw_data = json.loads(infile.readline())"
   ]
  },
  {
   "cell_type": "code",
   "execution_count": 4,
   "metadata": {},
   "outputs": [],
   "source": [
    "npdata = np.array([np.divide(np.array([x['assists'], x['damage_mitigated'], x['damage_player'], x['damage_taken'], x['deaths'], x['healing'], x['healing_player_self'], x['kills_player'], x['structure_damage']]), x['match_time_minutes']) for x in raw_data])\n",
    "npdata_normalized = npdata / npdata.max(axis=0)\n",
    "npdata_winlabel = np.array([1 if x['win_status'] == 'Winner' else 0 for x in raw_data])"
   ]
  },
  {
   "cell_type": "code",
   "execution_count": 5,
   "metadata": {},
   "outputs": [
    {
     "data": {
      "text/plain": "(3227, 9)"
     },
     "execution_count": 5,
     "metadata": {},
     "output_type": "execute_result"
    }
   ],
   "source": [
    "npdata_normalized.shape"
   ]
  },
  {
   "cell_type": "code",
   "execution_count": 89,
   "metadata": {},
   "outputs": [],
   "source": [
    "clustering = OPTICS(\n",
    "    min_cluster_size=0.1, # minimum cluster size is 1/10th of total\n",
    "    xi=0.001, # the slope required to form a cluster is 20%\n",
    "    max_eps=0.13\n",
    ").fit(npdata_normalized)"
   ]
  },
  {
   "cell_type": "code",
   "execution_count": 90,
   "metadata": {},
   "outputs": [
    {
     "data": {
      "text/plain": "{-1: 2893, 0: 334}"
     },
     "execution_count": 90,
     "metadata": {},
     "output_type": "execute_result"
    }
   ],
   "source": [
    "unique, counts = np.unique(clustering.labels_, return_counts=True)\n",
    "dict(zip(unique, counts))\n"
   ]
  },
  {
   "cell_type": "code",
   "execution_count": 76,
   "metadata": {},
   "outputs": [
    {
     "name": "stdout",
     "output_type": "stream",
     "text": "20: 0.08827687060204366\n50: 0.10800313302091903\n80: 0.13837724755307185\n"
    }
   ],
   "source": [
    "print('20:', np.percentile(clustering.reachability_, 20))\n",
    "print('50:', np.percentile(clustering.reachability_, 50))\n",
    "print('80:', np.percentile(clustering.reachability_, 80))"
   ]
  },
  {
   "cell_type": "code",
   "execution_count": 9,
   "metadata": {},
   "outputs": [
    {
     "data": {
      "text/plain": "14.78033316269991"
     },
     "execution_count": 9,
     "metadata": {},
     "output_type": "execute_result"
    }
   ],
   "source": [
    "model = GaussianMixture(n_components=3)\n",
    "model.fit(npdata_normalized[:3000], npdata_winlabel[:3000])\n",
    "model.score(npdata_normalized[3000:], npdata_winlabel[:3000])"
   ]
  },
  {
   "cell_type": "code",
   "execution_count": null,
   "metadata": {},
   "outputs": [],
   "source": []
  }
 ]
}